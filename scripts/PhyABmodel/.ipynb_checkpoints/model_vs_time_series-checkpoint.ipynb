{
 "cells": [
  {
   "cell_type": "code",
   "execution_count": 1,
   "metadata": {},
   "outputs": [
    {
     "name": "stdout",
     "output_type": "stream",
     "text": [
      "Populating the interactive namespace from numpy and matplotlib\n"
     ]
    }
   ],
   "source": [
    "#%pylab inline\n",
    "import tellurium as te\n",
    "import SloppyCell.ReactionNetworks as sc\n",
    "%pylab inline\n",
    "import pandas as pd\n"
   ]
  },
  {
   "cell_type": "code",
   "execution_count": null,
   "metadata": {},
   "outputs": [],
   "source": [
    "Model_params = sc.Utility.load('params.bp')\n",
    "\n",
    "figure(dpi=600)\n",
    "\n",
    "model = te.loadAntimonyModel('SloppyCell_model/phyAB_interaction_photoperiod')\n",
    "for p in Model_params.keys():\n",
    "    model.setValue(p,Model_params.getByKey(p))\n",
    "model.setValue('R_levels',1)\n",
    "model.setValue('FR_levels',0)\n",
    "model.setValue('muta',0)\n",
    "model.setValue('mutb',0)\n",
    "model.setValue('PF',16)\n",
    "res = model.simulate(0,24*10,1000)\n",
    "plot(res['time']-24*2,res['[Ar]']*10+res['[Afr]']*10,'k' ,label='PhyA longday')\n",
    "\n",
    "model = te.loadAntimonyModel('SloppyCell_model/phyAB_interaction_photoperiod')\n",
    "for p in Model_params.keys():\n",
    "    model.setValue(p,Model_params.getByKey(p))\n",
    "model.setValue('R_levels',1)\n",
    "model.setValue('FR_levels',0)\n",
    "model.setValue('muta',0)\n",
    "model.setValue('mutb',0)\n",
    "model.setValue('PF',8)\n",
    "res = model.simulate(0,24*10,1000)\n",
    "plot(res['time']-24*2,res['[Ar]']*10+res['[Afr]']*10,'b' ,label='PhyA shortday')\n",
    "\n",
    "#plot(res['time']-24*2,res['[Am]'],'b' ,label='PhyA shortday')\n",
    "\n",
    "\n",
    "#axvspan(0,40, color='gray', alpha=0.5)\n",
    "xticks(range(0,24*10,8), fontsize=20)\n",
    "yticks(fontsize=20)\n",
    "\n",
    "ylim(0,3)\n",
    "xlim(150,200)\n",
    "for i in range(0,10):\n",
    "    axvspan(16+(24*i),24+24*i, color='gray', alpha=0.5)\n",
    "    \n",
    "for i in range(0,10):\n",
    "    axvspan(8+(24*i),24+24*i, color='gray', alpha=0.5)\n",
    "legend(loc='upper right', fontsize=18)\n",
    "\n",
    "xlim(0,48)\n",
    "#savefig('PhyA_protein_SD_vs_LD.png', format='png', dpi=600, transparent=True)\n",
    "\n"
   ]
  }
 ],
 "metadata": {
  "kernelspec": {
   "display_name": "Python 2",
   "language": "python",
   "name": "python2"
  },
  "language_info": {
   "codemirror_mode": {
    "name": "ipython",
    "version": 2
   },
   "file_extension": ".py",
   "mimetype": "text/x-python",
   "name": "python",
   "nbconvert_exporter": "python",
   "pygments_lexer": "ipython2",
   "version": "2.7.15rc1"
  }
 },
 "nbformat": 4,
 "nbformat_minor": 2
}
